{
 "cells": [
  {
   "cell_type": "code",
   "execution_count": 1,
   "id": "958a8d2b",
   "metadata": {},
   "outputs": [],
   "source": [
    "import openpyxl\n",
    "import xlwt\n",
    "from bs4 import BeautifulSoup\n",
    "import requests\n",
    "import os\n",
    "import pandas as pd"
   ]
  },
  {
   "cell_type": "code",
   "execution_count": 2,
   "id": "9c2fdd85",
   "metadata": {},
   "outputs": [
    {
     "name": "stdout",
     "output_type": "stream",
     "text": [
      "ファイルをデスクトップフォルダに入れてからエクセル名を記入してくださいまぐ.xlsx\n"
     ]
    }
   ],
   "source": [
    "excel_name=input('ファイルをデスクトップフォルダに入れてからエクセル名を記入してください')                  "
   ]
  },
  {
   "cell_type": "code",
   "execution_count": 3,
   "id": "dd27ca58",
   "metadata": {},
   "outputs": [
    {
     "name": "stdout",
     "output_type": "stream",
     "text": [
      "ユーザー名を記入してくださいzekus\n"
     ]
    },
    {
     "data": {
      "text/plain": [
       "'C:\\\\Users\\\\zekus\\\\OneDrive\\\\デスクトップ'"
      ]
     },
     "execution_count": 3,
     "metadata": {},
     "output_type": "execute_result"
    }
   ],
   "source": [
    "username=str(input(\"ユーザー名を記入してください\"))\n",
    "os.chdir(f'C:\\\\Users\\\\{username}\\\\OneDrive\\\\デスクトップ')\n",
    "os.getcwd()"
   ]
  },
  {
   "cell_type": "code",
   "execution_count": 4,
   "id": "4e70347c",
   "metadata": {},
   "outputs": [],
   "source": [
    "wb=openpyxl.load_workbook(excel_name)\n",
    "ws=wb.active"
   ]
  },
  {
   "cell_type": "code",
   "execution_count": 19,
   "id": "54796b82",
   "metadata": {},
   "outputs": [
    {
     "name": "stdout",
     "output_type": "stream",
     "text": [
      "pueの意味が出てこなかった\n",
      "error\n"
     ]
    }
   ],
   "source": [
    "i=1\n",
    "try:\n",
    "    while True:\n",
    "        word=ws['A'+str(i)].value#wordをforに入れて何回も呼び出す\n",
    "        if word is None:\n",
    "            break\n",
    "        url=f\"https://ejje.weblio.jp/content/{word}\"\n",
    "        res=requests.get(url)\n",
    "        soup=BeautifulSoup(res.text,'html.parser')\n",
    "        \n",
    "        try:\n",
    "            mean=soup.find_all('span',attrs={'class':'content-explanation ej'})[0].text#意味取得\n",
    "            pronaunce=soup.find_all('span',attrs={'class':'phoneticEjjeDesc'})[0].text#発音取得\n",
    "            \n",
    "            df=pd.read_excel(excel_name)\n",
    "            wb=openpyxl.load_workbook(excel_name)\n",
    "            ws=wb.worksheets[0]\n",
    "            cell=ws['B'+str(i)]\n",
    "            cell2=ws['C'+str(i)]\n",
    "            cell.value=pronaunce\n",
    "            cell2.value=mean\n",
    "            wb.save(excel_name)\n",
    "            i+=1\n",
    "        except IndexError:\n",
    "            print(f\"{word}の意味が出てこなかった\")\n",
    "            i+=1\n",
    "except PermissionError:\n",
    "    print('error')\n",
    "    i+=1\n",
    "    pass  "
   ]
  },
  {
   "cell_type": "code",
   "execution_count": null,
   "id": "646f2a54",
   "metadata": {},
   "outputs": [],
   "source": []
  },
  {
   "cell_type": "code",
   "execution_count": null,
   "id": "26cb203f",
   "metadata": {},
   "outputs": [],
   "source": []
  },
  {
   "cell_type": "code",
   "execution_count": null,
   "id": "0ec0032a",
   "metadata": {},
   "outputs": [],
   "source": []
  },
  {
   "cell_type": "code",
   "execution_count": null,
   "id": "2e113314",
   "metadata": {},
   "outputs": [],
   "source": []
  },
  {
   "cell_type": "code",
   "execution_count": null,
   "id": "a56a8d7a",
   "metadata": {},
   "outputs": [],
   "source": []
  }
 ],
 "metadata": {
  "kernelspec": {
   "display_name": "Python 3 (ipykernel)",
   "language": "python",
   "name": "python3"
  },
  "language_info": {
   "codemirror_mode": {
    "name": "ipython",
    "version": 3
   },
   "file_extension": ".py",
   "mimetype": "text/x-python",
   "name": "python",
   "nbconvert_exporter": "python",
   "pygments_lexer": "ipython3",
   "version": "3.8.11"
  }
 },
 "nbformat": 4,
 "nbformat_minor": 5
}
